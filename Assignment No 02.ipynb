{
 "cells": [
  {
   "cell_type": "code",
   "execution_count": 8,
   "metadata": {},
   "outputs": [
    {
     "name": "stdout",
     "output_type": "stream",
     "text": [
      "         MARKS SHEET       \n",
      "Enter Your Percentage %88\n",
      "Your Grade is A+\n"
     ]
    }
   ],
   "source": [
    "print (\"         MARKS SHEET       \")\n",
    "per =int(input (\"Enter Your Percentage %\"))\n",
    "if per >=80 and per <=100 :\n",
    "    print (\"Your Grade is A+\")\n",
    "elif per >=70 and per <80 :\n",
    "    print (\"Your Grade is A\")\n",
    "elif per >=60 and per <70 :\n",
    "    print (\"Your Grade is B\")\n",
    "elif per >=50 and per <60 :\n",
    "    print (\"Your Grade is C\")\n",
    "elif per >=40 and per <50 :\n",
    "    print (\"Your Grade is D\")\n",
    "elif per >=0 and per <40 :\n",
    "    print (\"Your Are Fail\")\n",
    "else :\n",
    "    print (\"You have Given Inapproperiate %\")\n",
    "    \n",
    "    "
   ]
  },
  {
   "cell_type": "code",
   "execution_count": null,
   "metadata": {},
   "outputs": [],
   "source": []
  },
  {
   "cell_type": "code",
   "execution_count": null,
   "metadata": {},
   "outputs": [],
   "source": []
  },
  {
   "cell_type": "code",
   "execution_count": null,
   "metadata": {},
   "outputs": [],
   "source": []
  }
 ],
 "metadata": {
  "kernelspec": {
   "display_name": "Python 3",
   "language": "python",
   "name": "python3"
  },
  "language_info": {
   "codemirror_mode": {
    "name": "ipython",
    "version": 3
   },
   "file_extension": ".py",
   "mimetype": "text/x-python",
   "name": "python",
   "nbconvert_exporter": "python",
   "pygments_lexer": "ipython3",
   "version": "3.7.4"
  }
 },
 "nbformat": 4,
 "nbformat_minor": 2
}
